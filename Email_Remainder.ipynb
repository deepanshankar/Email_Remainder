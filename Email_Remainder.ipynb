{
  "nbformat": 4,
  "nbformat_minor": 0,
  "metadata": {
    "colab": {
      "name": "Email Remainder.ipynb",
      "provenance": [],
      "collapsed_sections": []
    },
    "kernelspec": {
      "name": "python3",
      "display_name": "Python 3"
    }
  },
  "cells": [
    {
      "cell_type": "markdown",
      "metadata": {
        "id": "B3DGcz_E_3Wg",
        "colab_type": "text"
      },
      "source": [
        " ## Email Remainder\n",
        "\n",
        "The following code generates email when the weather is rainy using python's *smtplib* package. The weather and temperature are parsed using *beautifulsoup* library which is used as web scraping tool to get the weather and temperature."
      ]
    },
    {
      "cell_type": "code",
      "metadata": {
        "id": "SWmDeyKhc26k",
        "colab_type": "code",
        "colab": {}
      },
      "source": [
        "import smtplib\n",
        "from bs4 import BeautifulSoup\n",
        "import requests as rq"
      ],
      "execution_count": null,
      "outputs": []
    },
    {
      "cell_type": "code",
      "metadata": {
        "id": "bEC5YFXydEEe",
        "colab_type": "code",
        "colab": {
          "base_uri": "https://localhost:8080/",
          "height": 34
        },
        "outputId": "65d274a4-5ba9-49d1-8abf-b4502e9bb444"
      },
      "source": [
        "url = \"https://forecast.weather.gov/MapClick.php?lat=40.71455000000003&lon=-74.00713999999994#.XujSEZNKjs0\"\n",
        "req = rq.get(url)\n",
        "soup = BeautifulSoup(req.text,'html.parser')\n",
        "\n",
        "weather = (soup.select('#current_conditions-summary p')[0]).text\n",
        "temp = (soup.select(\"#current_conditions-summary p\")[1]).text\n",
        "\n",
        "print(weather,temp)"
      ],
      "execution_count": null,
      "outputs": [
        {
          "output_type": "stream",
          "text": [
            "Fair 70°F\n"
          ],
          "name": "stdout"
        }
      ]
    },
    {
      "cell_type": "markdown",
      "metadata": {
        "id": "G7A4eTE-Awxc",
        "colab_type": "text"
      },
      "source": [
        "The following code blocks provides way to connect to gmail server using 587 as port and user mailid and passwordkey."
      ]
    },
    {
      "cell_type": "code",
      "metadata": {
        "id": "td5EwBfhdxJe",
        "colab_type": "code",
        "colab": {
          "base_uri": "https://localhost:8080/",
          "height": 68
        },
        "outputId": "5295c818-3061-461e-b85b-3a4cbc2a696b"
      },
      "source": [
        "server = smtplib.SMTP('smtp.gmail.com',587)\n",
        "print(server.ehlo())\n",
        "print(server.starttls())\n",
        "\n",
        "server.login('test@gmail.com','passwordkey')"
      ],
      "execution_count": null,
      "outputs": [
        {
          "output_type": "stream",
          "text": [
            "(250, b'smtp.gmail.com at your service, [34.80.122.2]\\nSIZE 35882577\\n8BITMIME\\nSTARTTLS\\nENHANCEDSTATUSCODES\\nPIPELINING\\nCHUNKING\\nSMTPUTF8')\n",
            "(220, b'2.0.0 Ready to start TLS')\n"
          ],
          "name": "stdout"
        },
        {
          "output_type": "execute_result",
          "data": {
            "text/plain": [
              "(235, b'2.7.0 Accepted')"
            ]
          },
          "metadata": {
            "tags": []
          },
          "execution_count": 11
        }
      ]
    },
    {
      "cell_type": "markdown",
      "metadata": {
        "id": "p0RyvqwrA-p6",
        "colab_type": "text"
      },
      "source": [
        "Creating an email content when the weather is \"rainy\" with subject and main message content"
      ]
    },
    {
      "cell_type": "code",
      "metadata": {
        "id": "5Pq1cLcUe1Wd",
        "colab_type": "code",
        "colab": {
          "base_uri": "https://localhost:8080/",
          "height": 88
        },
        "outputId": "420192f3-2f30-4748-9c22-86556243de39"
      },
      "source": [
        "if weather == \"Rainy\":\n",
        "\n",
        "  subject = \"Umbrella Reminder\"\n",
        "  body = f\"Take an umbrella with you. Weather condition for today is {weather} and temperature is {temp} in New York.\"\n",
        "\n",
        "  msg = f\"Subject:{subject}\\n\\n{body}\\n\\nRegards,\\n Deepan Shankar\".encode('utf-8')\n",
        "  print(msg)\n",
        "\n",
        "  server.sendmail('deepanshankar1901@gmail.com', 'deepanshankar1901@gmail.com', msg)\n",
        "\n",
        "  print(\"Email Sent!\")\n",
        "\n",
        "  server.quit()\n",
        "\n",
        "else:\n",
        "  print(f\"Weather is {weather}\")"
      ],
      "execution_count": null,
      "outputs": [
        {
          "output_type": "stream",
          "text": [
            "b'Subject:Umbrella Reminder\\n\\nTake an umbrella with you. Weather condition for today is Fair and temperature is 70\\xc2\\xb0F in New York.\\n\\nRegards,\\n Deepan Shankar'\n",
            "Email Sent!\n"
          ],
          "name": "stdout"
        },
        {
          "output_type": "execute_result",
          "data": {
            "text/plain": [
              "(221, b'2.0.0 closing connection i19sm2831966pjz.4 - gsmtp')"
            ]
          },
          "metadata": {
            "tags": []
          },
          "execution_count": 13
        }
      ]
    },
    {
      "cell_type": "markdown",
      "metadata": {
        "id": "Vtcjfl7_-UPs",
        "colab_type": "text"
      },
      "source": [
        "Thus, email remainder is created and whenever the weather is rainy. If not, just the weather is printed and email is not sent"
      ]
    }
  ]
}